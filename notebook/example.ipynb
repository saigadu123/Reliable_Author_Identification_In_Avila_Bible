{
 "cells": [
  {
   "cell_type": "code",
   "execution_count": 1,
   "metadata": {},
   "outputs": [],
   "source": [
    "import tarfile"
   ]
  },
  {
   "cell_type": "code",
   "execution_count": 2,
   "metadata": {},
   "outputs": [
    {
     "data": {
      "text/plain": [
       "'c:\\\\ML project\\\\Reliable_Author_Identification_In_Avila_Bible\\\\notebook'"
      ]
     },
     "execution_count": 2,
     "metadata": {},
     "output_type": "execute_result"
    }
   ],
   "source": [
    "import os\n",
    "os.getcwd()"
   ]
  },
  {
   "cell_type": "code",
   "execution_count": 3,
   "metadata": {},
   "outputs": [],
   "source": [
    "os.chdir('c:\\\\ML project\\\\Reliable_Author_Identification_In_Avila_Bible')"
   ]
  },
  {
   "cell_type": "code",
   "execution_count": 4,
   "metadata": {},
   "outputs": [
    {
     "data": {
      "text/plain": [
       "'c:\\\\ML project\\\\Reliable_Author_Identification_In_Avila_Bible'"
      ]
     },
     "execution_count": 4,
     "metadata": {},
     "output_type": "execute_result"
    }
   ],
   "source": [
    "os.getcwd()"
   ]
  },
  {
   "cell_type": "code",
   "execution_count": 5,
   "metadata": {},
   "outputs": [],
   "source": [
    "from Avila.component.data_ingestion import *"
   ]
  },
  {
   "cell_type": "code",
   "execution_count": 6,
   "metadata": {},
   "outputs": [],
   "source": [
    "os.chdir('c:\\\\ML project\\\\Reliable_Author_Identification_In_Avila_Bible\\\\notebook')"
   ]
  },
  {
   "cell_type": "code",
   "execution_count": 7,
   "metadata": {},
   "outputs": [],
   "source": [
    "download_root = 'https://raw.githubusercontent.com/saigadu123/Location-of-Avila-file/main/avila-tr.tgz'"
   ]
  },
  {
   "cell_type": "code",
   "execution_count": null,
   "metadata": {},
   "outputs": [],
   "source": []
  },
  {
   "cell_type": "code",
   "execution_count": 8,
   "metadata": {},
   "outputs": [],
   "source": [
    "import tarfile"
   ]
  },
  {
   "cell_type": "code",
   "execution_count": 9,
   "metadata": {},
   "outputs": [
    {
     "data": {
      "text/plain": [
       "'c:\\\\ML project\\\\Reliable_Author_Identification_In_Avila_Bible\\\\notebook'"
      ]
     },
     "execution_count": 9,
     "metadata": {},
     "output_type": "execute_result"
    }
   ],
   "source": [
    "os.getcwd()"
   ]
  },
  {
   "cell_type": "code",
   "execution_count": 10,
   "metadata": {},
   "outputs": [],
   "source": [
    "os.chdir('c:\\\\ML project\\\\Reliable_Author_Identification_In_Avila_Bible')"
   ]
  },
  {
   "cell_type": "code",
   "execution_count": 11,
   "metadata": {},
   "outputs": [],
   "source": [
    "from Avila.entity.Author_predictor import AuthorPredictor"
   ]
  },
  {
   "cell_type": "code",
   "execution_count": 12,
   "metadata": {},
   "outputs": [
    {
     "name": "stderr",
     "output_type": "stream",
     "text": [
      "c:\\ML project\\Machine_learning_project\\sai\\lib\\site-packages\\_distutils_hack\\__init__.py:30: UserWarning: Setuptools is replacing distutils.\n",
      "  warnings.warn(\"Setuptools is replacing distutils.\")\n"
     ]
    },
    {
     "name": "stdout",
     "output_type": "stream",
     "text": [
      "The Zen of Python, by Tim Peters\n",
      "\n",
      "Beautiful is better than ugly.\n",
      "Explicit is better than implicit.\n",
      "Simple is better than complex.\n",
      "Complex is better than complicated.\n",
      "Flat is better than nested.\n",
      "Sparse is better than dense.\n",
      "Readability counts.\n",
      "Special cases aren't special enough to break the rules.\n",
      "Although practicality beats purity.\n",
      "Errors should never pass silently.\n",
      "Unless explicitly silenced.\n",
      "In the face of ambiguity, refuse the temptation to guess.\n",
      "There should be one-- and preferably only one --obvious way to do it.\n",
      "Although that way may not be obvious at first unless you're Dutch.\n",
      "Now is better than never.\n",
      "Although never is often better than *right* now.\n",
      "If the implementation is hard to explain, it's a bad idea.\n",
      "If the implementation is easy to explain, it may be a good idea.\n",
      "Namespaces are one honking great idea -- let's do more of those!\n"
     ]
    }
   ],
   "source": [
    "import app as pf"
   ]
  },
  {
   "cell_type": "code",
   "execution_count": 13,
   "metadata": {},
   "outputs": [],
   "source": [
    "model_dir = pf.MODEL_DIR"
   ]
  },
  {
   "cell_type": "code",
   "execution_count": 14,
   "metadata": {},
   "outputs": [],
   "source": [
    "obj = AuthorPredictor(model_dir=model_dir)"
   ]
  },
  {
   "cell_type": "code",
   "execution_count": 15,
   "metadata": {},
   "outputs": [],
   "source": [
    "from Avila.entity.artifact_entity import DataIngestionArtifact"
   ]
  },
  {
   "cell_type": "code",
   "execution_count": 24,
   "metadata": {},
   "outputs": [],
   "source": [
    "df = pd.read_csv(r'C:\\ML project\\Reliable_Author_Identification_In_Avila_Bible\\Avila\\artifact\\data_ingestion\\2022-08-02_07-47-03\\ingested_data\\train\\avila-tr.csv')"
   ]
  },
  {
   "cell_type": "code",
   "execution_count": 25,
   "metadata": {},
   "outputs": [
    {
     "data": {
      "text/html": [
       "<div>\n",
       "<style scoped>\n",
       "    .dataframe tbody tr th:only-of-type {\n",
       "        vertical-align: middle;\n",
       "    }\n",
       "\n",
       "    .dataframe tbody tr th {\n",
       "        vertical-align: top;\n",
       "    }\n",
       "\n",
       "    .dataframe thead th {\n",
       "        text-align: right;\n",
       "    }\n",
       "</style>\n",
       "<table border=\"1\" class=\"dataframe\">\n",
       "  <thead>\n",
       "    <tr style=\"text-align: right;\">\n",
       "      <th></th>\n",
       "      <th>Intercolumnar_distance</th>\n",
       "      <th>upper_margin</th>\n",
       "      <th>lower_margin</th>\n",
       "      <th>exploitation</th>\n",
       "      <th>row_number</th>\n",
       "      <th>modular_ratio</th>\n",
       "      <th>inter_linear_spacing</th>\n",
       "      <th>weight</th>\n",
       "      <th>peak_number</th>\n",
       "      <th>modular_ratio/inter_linear_spacing</th>\n",
       "      <th>Class</th>\n",
       "    </tr>\n",
       "  </thead>\n",
       "  <tbody>\n",
       "    <tr>\n",
       "      <th>0</th>\n",
       "      <td>-0.067210</td>\n",
       "      <td>-0.197025</td>\n",
       "      <td>0.299642</td>\n",
       "      <td>-1.663370</td>\n",
       "      <td>0.261718</td>\n",
       "      <td>-0.847807</td>\n",
       "      <td>0.333428</td>\n",
       "      <td>0.534078</td>\n",
       "      <td>0.219991</td>\n",
       "      <td>-0.818446</td>\n",
       "      <td>F</td>\n",
       "    </tr>\n",
       "    <tr>\n",
       "      <th>1</th>\n",
       "      <td>0.241386</td>\n",
       "      <td>-0.322644</td>\n",
       "      <td>0.310311</td>\n",
       "      <td>0.490550</td>\n",
       "      <td>0.261718</td>\n",
       "      <td>-0.058835</td>\n",
       "      <td>0.522180</td>\n",
       "      <td>0.193221</td>\n",
       "      <td>-0.029461</td>\n",
       "      <td>-0.212049</td>\n",
       "      <td>A</td>\n",
       "    </tr>\n",
       "    <tr>\n",
       "      <th>2</th>\n",
       "      <td>-0.104241</td>\n",
       "      <td>0.234790</td>\n",
       "      <td>0.214288</td>\n",
       "      <td>0.314028</td>\n",
       "      <td>0.172340</td>\n",
       "      <td>-0.391033</td>\n",
       "      <td>0.106925</td>\n",
       "      <td>1.460834</td>\n",
       "      <td>1.093072</td>\n",
       "      <td>-0.296676</td>\n",
       "      <td>H</td>\n",
       "    </tr>\n",
       "    <tr>\n",
       "      <th>3</th>\n",
       "      <td>-0.178304</td>\n",
       "      <td>-0.189174</td>\n",
       "      <td>0.264078</td>\n",
       "      <td>-0.640492</td>\n",
       "      <td>0.172340</td>\n",
       "      <td>0.937762</td>\n",
       "      <td>-0.006326</td>\n",
       "      <td>-0.282573</td>\n",
       "      <td>-0.528364</td>\n",
       "      <td>0.988172</td>\n",
       "      <td>A</td>\n",
       "    </tr>\n",
       "    <tr>\n",
       "      <th>4</th>\n",
       "      <td>0.414200</td>\n",
       "      <td>-0.165620</td>\n",
       "      <td>0.054250</td>\n",
       "      <td>-0.891996</td>\n",
       "      <td>0.976743</td>\n",
       "      <td>-0.474083</td>\n",
       "      <td>-1.478592</td>\n",
       "      <td>0.182524</td>\n",
       "      <td>1.654339</td>\n",
       "      <td>0.594294</td>\n",
       "      <td>I</td>\n",
       "    </tr>\n",
       "    <tr>\n",
       "      <th>...</th>\n",
       "      <td>...</td>\n",
       "      <td>...</td>\n",
       "      <td>...</td>\n",
       "      <td>...</td>\n",
       "      <td>...</td>\n",
       "      <td>...</td>\n",
       "      <td>...</td>\n",
       "      <td>...</td>\n",
       "      <td>...</td>\n",
       "      <td>...</td>\n",
       "      <td>...</td>\n",
       "    </tr>\n",
       "    <tr>\n",
       "      <th>8339</th>\n",
       "      <td>-0.079554</td>\n",
       "      <td>0.187683</td>\n",
       "      <td>-0.070224</td>\n",
       "      <td>0.211236</td>\n",
       "      <td>0.261718</td>\n",
       "      <td>0.605563</td>\n",
       "      <td>0.522180</td>\n",
       "      <td>-0.218502</td>\n",
       "      <td>-0.559546</td>\n",
       "      <td>0.383511</td>\n",
       "      <td>A</td>\n",
       "    </tr>\n",
       "    <tr>\n",
       "      <th>8340</th>\n",
       "      <td>0.192011</td>\n",
       "      <td>0.085618</td>\n",
       "      <td>0.278304</td>\n",
       "      <td>-1.347355</td>\n",
       "      <td>0.261718</td>\n",
       "      <td>-1.013906</td>\n",
       "      <td>0.484429</td>\n",
       "      <td>0.299171</td>\n",
       "      <td>-0.528364</td>\n",
       "      <td>-1.036596</td>\n",
       "      <td>F</td>\n",
       "    </tr>\n",
       "    <tr>\n",
       "      <th>8341</th>\n",
       "      <td>0.154980</td>\n",
       "      <td>-0.165620</td>\n",
       "      <td>-3.210528</td>\n",
       "      <td>-1.320680</td>\n",
       "      <td>-0.185173</td>\n",
       "      <td>-0.515608</td>\n",
       "      <td>-0.081827</td>\n",
       "      <td>-0.957122</td>\n",
       "      <td>-0.434820</td>\n",
       "      <td>-0.309081</td>\n",
       "      <td>A</td>\n",
       "    </tr>\n",
       "    <tr>\n",
       "      <th>8342</th>\n",
       "      <td>-0.252367</td>\n",
       "      <td>-0.008597</td>\n",
       "      <td>-2.044028</td>\n",
       "      <td>0.342613</td>\n",
       "      <td>0.351096</td>\n",
       "      <td>-0.515608</td>\n",
       "      <td>0.484429</td>\n",
       "      <td>0.995136</td>\n",
       "      <td>2.371513</td>\n",
       "      <td>-0.589013</td>\n",
       "      <td>X</td>\n",
       "    </tr>\n",
       "    <tr>\n",
       "      <th>8343</th>\n",
       "      <td>-0.314087</td>\n",
       "      <td>0.164129</td>\n",
       "      <td>0.200063</td>\n",
       "      <td>0.132493</td>\n",
       "      <td>0.261718</td>\n",
       "      <td>-0.058835</td>\n",
       "      <td>0.144676</td>\n",
       "      <td>-0.792324</td>\n",
       "      <td>-0.185368</td>\n",
       "      <td>0.006354</td>\n",
       "      <td>E</td>\n",
       "    </tr>\n",
       "  </tbody>\n",
       "</table>\n",
       "<p>8344 rows × 11 columns</p>\n",
       "</div>"
      ],
      "text/plain": [
       "      Intercolumnar_distance  upper_margin  lower_margin  exploitation  \\\n",
       "0                  -0.067210     -0.197025      0.299642     -1.663370   \n",
       "1                   0.241386     -0.322644      0.310311      0.490550   \n",
       "2                  -0.104241      0.234790      0.214288      0.314028   \n",
       "3                  -0.178304     -0.189174      0.264078     -0.640492   \n",
       "4                   0.414200     -0.165620      0.054250     -0.891996   \n",
       "...                      ...           ...           ...           ...   \n",
       "8339               -0.079554      0.187683     -0.070224      0.211236   \n",
       "8340                0.192011      0.085618      0.278304     -1.347355   \n",
       "8341                0.154980     -0.165620     -3.210528     -1.320680   \n",
       "8342               -0.252367     -0.008597     -2.044028      0.342613   \n",
       "8343               -0.314087      0.164129      0.200063      0.132493   \n",
       "\n",
       "      row_number  modular_ratio  inter_linear_spacing    weight  peak_number  \\\n",
       "0       0.261718      -0.847807              0.333428  0.534078     0.219991   \n",
       "1       0.261718      -0.058835              0.522180  0.193221    -0.029461   \n",
       "2       0.172340      -0.391033              0.106925  1.460834     1.093072   \n",
       "3       0.172340       0.937762             -0.006326 -0.282573    -0.528364   \n",
       "4       0.976743      -0.474083             -1.478592  0.182524     1.654339   \n",
       "...          ...            ...                   ...       ...          ...   \n",
       "8339    0.261718       0.605563              0.522180 -0.218502    -0.559546   \n",
       "8340    0.261718      -1.013906              0.484429  0.299171    -0.528364   \n",
       "8341   -0.185173      -0.515608             -0.081827 -0.957122    -0.434820   \n",
       "8342    0.351096      -0.515608              0.484429  0.995136     2.371513   \n",
       "8343    0.261718      -0.058835              0.144676 -0.792324    -0.185368   \n",
       "\n",
       "      modular_ratio/inter_linear_spacing Class  \n",
       "0                              -0.818446     F  \n",
       "1                              -0.212049     A  \n",
       "2                              -0.296676     H  \n",
       "3                               0.988172     A  \n",
       "4                               0.594294     I  \n",
       "...                                  ...   ...  \n",
       "8339                            0.383511     A  \n",
       "8340                           -1.036596     F  \n",
       "8341                           -0.309081     A  \n",
       "8342                           -0.589013     X  \n",
       "8343                            0.006354     E  \n",
       "\n",
       "[8344 rows x 11 columns]"
      ]
     },
     "execution_count": 25,
     "metadata": {},
     "output_type": "execute_result"
    }
   ],
   "source": [
    "df"
   ]
  },
  {
   "cell_type": "code",
   "execution_count": null,
   "metadata": {},
   "outputs": [],
   "source": []
  },
  {
   "cell_type": "code",
   "execution_count": 26,
   "metadata": {},
   "outputs": [
    {
     "data": {
      "text/html": [
       "<div>\n",
       "<style scoped>\n",
       "    .dataframe tbody tr th:only-of-type {\n",
       "        vertical-align: middle;\n",
       "    }\n",
       "\n",
       "    .dataframe tbody tr th {\n",
       "        vertical-align: top;\n",
       "    }\n",
       "\n",
       "    .dataframe thead th {\n",
       "        text-align: right;\n",
       "    }\n",
       "</style>\n",
       "<table border=\"1\" class=\"dataframe\">\n",
       "  <thead>\n",
       "    <tr style=\"text-align: right;\">\n",
       "      <th></th>\n",
       "      <th>Intercolumnar_distance</th>\n",
       "      <th>upper_margin</th>\n",
       "      <th>lower_margin</th>\n",
       "      <th>exploitation</th>\n",
       "      <th>row_number</th>\n",
       "      <th>modular_ratio</th>\n",
       "      <th>inter_linear_spacing</th>\n",
       "      <th>weight</th>\n",
       "      <th>peak_number</th>\n",
       "      <th>modular_ratio/inter_linear_spacing</th>\n",
       "      <th>Class</th>\n",
       "    </tr>\n",
       "  </thead>\n",
       "  <tbody>\n",
       "    <tr>\n",
       "      <th>0</th>\n",
       "      <td>-0.067210</td>\n",
       "      <td>-0.197025</td>\n",
       "      <td>0.299642</td>\n",
       "      <td>-1.663370</td>\n",
       "      <td>0.261718</td>\n",
       "      <td>-0.847807</td>\n",
       "      <td>0.333428</td>\n",
       "      <td>0.534078</td>\n",
       "      <td>0.219991</td>\n",
       "      <td>-0.818446</td>\n",
       "      <td>F</td>\n",
       "    </tr>\n",
       "    <tr>\n",
       "      <th>1</th>\n",
       "      <td>0.241386</td>\n",
       "      <td>-0.322644</td>\n",
       "      <td>0.310311</td>\n",
       "      <td>0.490550</td>\n",
       "      <td>0.261718</td>\n",
       "      <td>-0.058835</td>\n",
       "      <td>0.522180</td>\n",
       "      <td>0.193221</td>\n",
       "      <td>-0.029461</td>\n",
       "      <td>-0.212049</td>\n",
       "      <td>A</td>\n",
       "    </tr>\n",
       "    <tr>\n",
       "      <th>2</th>\n",
       "      <td>-0.104241</td>\n",
       "      <td>0.234790</td>\n",
       "      <td>0.214288</td>\n",
       "      <td>0.314028</td>\n",
       "      <td>0.172340</td>\n",
       "      <td>-0.391033</td>\n",
       "      <td>0.106925</td>\n",
       "      <td>1.460834</td>\n",
       "      <td>1.093072</td>\n",
       "      <td>-0.296676</td>\n",
       "      <td>H</td>\n",
       "    </tr>\n",
       "    <tr>\n",
       "      <th>3</th>\n",
       "      <td>-0.178304</td>\n",
       "      <td>-0.189174</td>\n",
       "      <td>0.264078</td>\n",
       "      <td>-0.640492</td>\n",
       "      <td>0.172340</td>\n",
       "      <td>0.937762</td>\n",
       "      <td>-0.006326</td>\n",
       "      <td>-0.282573</td>\n",
       "      <td>-0.528364</td>\n",
       "      <td>0.988172</td>\n",
       "      <td>A</td>\n",
       "    </tr>\n",
       "    <tr>\n",
       "      <th>4</th>\n",
       "      <td>0.414200</td>\n",
       "      <td>-0.165620</td>\n",
       "      <td>0.054250</td>\n",
       "      <td>-0.891996</td>\n",
       "      <td>0.976743</td>\n",
       "      <td>-0.474083</td>\n",
       "      <td>-1.478592</td>\n",
       "      <td>0.182524</td>\n",
       "      <td>1.654339</td>\n",
       "      <td>0.594294</td>\n",
       "      <td>I</td>\n",
       "    </tr>\n",
       "    <tr>\n",
       "      <th>...</th>\n",
       "      <td>...</td>\n",
       "      <td>...</td>\n",
       "      <td>...</td>\n",
       "      <td>...</td>\n",
       "      <td>...</td>\n",
       "      <td>...</td>\n",
       "      <td>...</td>\n",
       "      <td>...</td>\n",
       "      <td>...</td>\n",
       "      <td>...</td>\n",
       "      <td>...</td>\n",
       "    </tr>\n",
       "    <tr>\n",
       "      <th>8339</th>\n",
       "      <td>-0.079554</td>\n",
       "      <td>0.187683</td>\n",
       "      <td>-0.070224</td>\n",
       "      <td>0.211236</td>\n",
       "      <td>0.261718</td>\n",
       "      <td>0.605563</td>\n",
       "      <td>0.522180</td>\n",
       "      <td>-0.218502</td>\n",
       "      <td>-0.559546</td>\n",
       "      <td>0.383511</td>\n",
       "      <td>A</td>\n",
       "    </tr>\n",
       "    <tr>\n",
       "      <th>8340</th>\n",
       "      <td>0.192011</td>\n",
       "      <td>0.085618</td>\n",
       "      <td>0.278304</td>\n",
       "      <td>-1.347355</td>\n",
       "      <td>0.261718</td>\n",
       "      <td>-1.013906</td>\n",
       "      <td>0.484429</td>\n",
       "      <td>0.299171</td>\n",
       "      <td>-0.528364</td>\n",
       "      <td>-1.036596</td>\n",
       "      <td>F</td>\n",
       "    </tr>\n",
       "    <tr>\n",
       "      <th>8341</th>\n",
       "      <td>0.154980</td>\n",
       "      <td>-0.165620</td>\n",
       "      <td>-3.210528</td>\n",
       "      <td>-1.320680</td>\n",
       "      <td>-0.185173</td>\n",
       "      <td>-0.515608</td>\n",
       "      <td>-0.081827</td>\n",
       "      <td>-0.957122</td>\n",
       "      <td>-0.434820</td>\n",
       "      <td>-0.309081</td>\n",
       "      <td>A</td>\n",
       "    </tr>\n",
       "    <tr>\n",
       "      <th>8342</th>\n",
       "      <td>-0.252367</td>\n",
       "      <td>-0.008597</td>\n",
       "      <td>-2.044028</td>\n",
       "      <td>0.342613</td>\n",
       "      <td>0.351096</td>\n",
       "      <td>-0.515608</td>\n",
       "      <td>0.484429</td>\n",
       "      <td>0.995136</td>\n",
       "      <td>2.371513</td>\n",
       "      <td>-0.589013</td>\n",
       "      <td>X</td>\n",
       "    </tr>\n",
       "    <tr>\n",
       "      <th>8343</th>\n",
       "      <td>-0.314087</td>\n",
       "      <td>0.164129</td>\n",
       "      <td>0.200063</td>\n",
       "      <td>0.132493</td>\n",
       "      <td>0.261718</td>\n",
       "      <td>-0.058835</td>\n",
       "      <td>0.144676</td>\n",
       "      <td>-0.792324</td>\n",
       "      <td>-0.185368</td>\n",
       "      <td>0.006354</td>\n",
       "      <td>E</td>\n",
       "    </tr>\n",
       "  </tbody>\n",
       "</table>\n",
       "<p>8344 rows × 11 columns</p>\n",
       "</div>"
      ],
      "text/plain": [
       "      Intercolumnar_distance  upper_margin  lower_margin  exploitation  \\\n",
       "0                  -0.067210     -0.197025      0.299642     -1.663370   \n",
       "1                   0.241386     -0.322644      0.310311      0.490550   \n",
       "2                  -0.104241      0.234790      0.214288      0.314028   \n",
       "3                  -0.178304     -0.189174      0.264078     -0.640492   \n",
       "4                   0.414200     -0.165620      0.054250     -0.891996   \n",
       "...                      ...           ...           ...           ...   \n",
       "8339               -0.079554      0.187683     -0.070224      0.211236   \n",
       "8340                0.192011      0.085618      0.278304     -1.347355   \n",
       "8341                0.154980     -0.165620     -3.210528     -1.320680   \n",
       "8342               -0.252367     -0.008597     -2.044028      0.342613   \n",
       "8343               -0.314087      0.164129      0.200063      0.132493   \n",
       "\n",
       "      row_number  modular_ratio  inter_linear_spacing    weight  peak_number  \\\n",
       "0       0.261718      -0.847807              0.333428  0.534078     0.219991   \n",
       "1       0.261718      -0.058835              0.522180  0.193221    -0.029461   \n",
       "2       0.172340      -0.391033              0.106925  1.460834     1.093072   \n",
       "3       0.172340       0.937762             -0.006326 -0.282573    -0.528364   \n",
       "4       0.976743      -0.474083             -1.478592  0.182524     1.654339   \n",
       "...          ...            ...                   ...       ...          ...   \n",
       "8339    0.261718       0.605563              0.522180 -0.218502    -0.559546   \n",
       "8340    0.261718      -1.013906              0.484429  0.299171    -0.528364   \n",
       "8341   -0.185173      -0.515608             -0.081827 -0.957122    -0.434820   \n",
       "8342    0.351096      -0.515608              0.484429  0.995136     2.371513   \n",
       "8343    0.261718      -0.058835              0.144676 -0.792324    -0.185368   \n",
       "\n",
       "      modular_ratio/inter_linear_spacing Class  \n",
       "0                              -0.818446     F  \n",
       "1                              -0.212049     A  \n",
       "2                              -0.296676     H  \n",
       "3                               0.988172     A  \n",
       "4                               0.594294     I  \n",
       "...                                  ...   ...  \n",
       "8339                            0.383511     A  \n",
       "8340                           -1.036596     F  \n",
       "8341                           -0.309081     A  \n",
       "8342                           -0.589013     X  \n",
       "8343                            0.006354     E  \n",
       "\n",
       "[8344 rows x 11 columns]"
      ]
     },
     "execution_count": 26,
     "metadata": {},
     "output_type": "execute_result"
    }
   ],
   "source": [
    "df"
   ]
  },
  {
   "cell_type": "code",
   "execution_count": 30,
   "metadata": {},
   "outputs": [],
   "source": [
    "dict = {\"A\":0.123,\"B\":2.234,\"C\":\"3.14\"}"
   ]
  },
  {
   "cell_type": "code",
   "execution_count": 33,
   "metadata": {},
   "outputs": [
    {
     "data": {
      "text/html": [
       "<div>\n",
       "<style scoped>\n",
       "    .dataframe tbody tr th:only-of-type {\n",
       "        vertical-align: middle;\n",
       "    }\n",
       "\n",
       "    .dataframe tbody tr th {\n",
       "        vertical-align: top;\n",
       "    }\n",
       "\n",
       "    .dataframe thead th {\n",
       "        text-align: right;\n",
       "    }\n",
       "</style>\n",
       "<table border=\"1\" class=\"dataframe\">\n",
       "  <thead>\n",
       "    <tr style=\"text-align: right;\">\n",
       "      <th></th>\n",
       "      <th>A</th>\n",
       "      <th>B</th>\n",
       "      <th>C</th>\n",
       "    </tr>\n",
       "  </thead>\n",
       "  <tbody>\n",
       "    <tr>\n",
       "      <th>1</th>\n",
       "      <td>0.123</td>\n",
       "      <td>2.234</td>\n",
       "      <td>3.14</td>\n",
       "    </tr>\n",
       "  </tbody>\n",
       "</table>\n",
       "</div>"
      ],
      "text/plain": [
       "       A      B     C\n",
       "1  0.123  2.234  3.14"
      ]
     },
     "execution_count": 33,
     "metadata": {},
     "output_type": "execute_result"
    }
   ],
   "source": [
    "pd.DataFrame(dict,index=[1])"
   ]
  },
  {
   "cell_type": "code",
   "execution_count": 37,
   "metadata": {},
   "outputs": [],
   "source": [
    "x = df.drop(\"Class\",axis=1)\n",
    "y = df[\"Class\"]"
   ]
  },
  {
   "cell_type": "code",
   "execution_count": 39,
   "metadata": {},
   "outputs": [],
   "source": [
    "from sklearn.svm import SVC"
   ]
  },
  {
   "cell_type": "code",
   "execution_count": 40,
   "metadata": {},
   "outputs": [],
   "source": [
    "s = SVC()"
   ]
  },
  {
   "cell_type": "code",
   "execution_count": 41,
   "metadata": {},
   "outputs": [],
   "source": [
    "from sklearn.model_selection import train_test_split\n",
    "x_train,x_test,y_train,y_test = train_test_split(x,y,test_size=20)"
   ]
  },
  {
   "cell_type": "code",
   "execution_count": 42,
   "metadata": {},
   "outputs": [
    {
     "data": {
      "text/plain": [
       "SVC()"
      ]
     },
     "execution_count": 42,
     "metadata": {},
     "output_type": "execute_result"
    }
   ],
   "source": [
    "s.fit(x_train,y_train)"
   ]
  },
  {
   "cell_type": "code",
   "execution_count": 48,
   "metadata": {},
   "outputs": [
    {
     "ename": "AvilaException",
     "evalue": "Error occured in script:[c:\\ML project\\Reliable_Author_Identification_In_Avila_Bible\\Avila\\entity\\Author_predictor.py] at line number:[85] error message:[unhashable type: 'numpy.ndarray']",
     "output_type": "error",
     "traceback": [
      "\u001b[1;31m---------------------------------------------------------------------------\u001b[0m",
      "\u001b[1;31mTypeError\u001b[0m                                 Traceback (most recent call last)",
      "\u001b[1;32mc:\\ML project\\Reliable_Author_Identification_In_Avila_Bible\\Avila\\entity\\Author_predictor.py\u001b[0m in \u001b[0;36mpredict\u001b[1;34m(self, X)\u001b[0m\n\u001b[0;32m     84\u001b[0m             \u001b[0mAuthor_name\u001b[0m \u001b[1;33m=\u001b[0m \u001b[0mmodel\u001b[0m\u001b[1;33m.\u001b[0m\u001b[0mpredict\u001b[0m\u001b[1;33m(\u001b[0m\u001b[0mX\u001b[0m\u001b[1;33m)\u001b[0m\u001b[1;33m\u001b[0m\u001b[0m\n\u001b[1;32m---> 85\u001b[1;33m             \u001b[1;32mreturn\u001b[0m \u001b[0mconversion_dict\u001b[0m\u001b[1;33m[\u001b[0m\u001b[0mAuthor_name\u001b[0m\u001b[1;33m]\u001b[0m\u001b[1;33m\u001b[0m\u001b[0m\n\u001b[0m\u001b[0;32m     86\u001b[0m         \u001b[1;32mexcept\u001b[0m \u001b[0mException\u001b[0m \u001b[1;32mas\u001b[0m \u001b[0me\u001b[0m\u001b[1;33m:\u001b[0m\u001b[1;33m\u001b[0m\u001b[0m\n",
      "\u001b[1;31mTypeError\u001b[0m: unhashable type: 'numpy.ndarray'",
      "\nThe above exception was the direct cause of the following exception:\n",
      "\u001b[1;31mAvilaException\u001b[0m                            Traceback (most recent call last)",
      "\u001b[1;32m~\\AppData\\Local\\Temp\\ipykernel_24016\\194858660.py\u001b[0m in \u001b[0;36m<module>\u001b[1;34m\u001b[0m\n\u001b[1;32m----> 1\u001b[1;33m \u001b[0mobj\u001b[0m\u001b[1;33m.\u001b[0m\u001b[0mpredict\u001b[0m\u001b[1;33m(\u001b[0m\u001b[0mx_test\u001b[0m\u001b[1;33m)\u001b[0m\u001b[1;33m\u001b[0m\u001b[0m\n\u001b[0m",
      "\u001b[1;32mc:\\ML project\\Reliable_Author_Identification_In_Avila_Bible\\Avila\\entity\\Author_predictor.py\u001b[0m in \u001b[0;36mpredict\u001b[1;34m(self, X)\u001b[0m\n\u001b[0;32m     85\u001b[0m             \u001b[1;32mreturn\u001b[0m \u001b[0mconversion_dict\u001b[0m\u001b[1;33m[\u001b[0m\u001b[0mAuthor_name\u001b[0m\u001b[1;33m]\u001b[0m\u001b[1;33m\u001b[0m\u001b[0m\n\u001b[0;32m     86\u001b[0m         \u001b[1;32mexcept\u001b[0m \u001b[0mException\u001b[0m \u001b[1;32mas\u001b[0m \u001b[0me\u001b[0m\u001b[1;33m:\u001b[0m\u001b[1;33m\u001b[0m\u001b[0m\n\u001b[1;32m---> 87\u001b[1;33m             \u001b[1;32mraise\u001b[0m \u001b[0mAvilaException\u001b[0m\u001b[1;33m(\u001b[0m\u001b[0me\u001b[0m\u001b[1;33m,\u001b[0m\u001b[0msys\u001b[0m\u001b[1;33m)\u001b[0m \u001b[1;32mfrom\u001b[0m \u001b[0me\u001b[0m\u001b[1;33m\u001b[0m\u001b[0m\n\u001b[0m\u001b[0;32m     88\u001b[0m \u001b[1;33m\u001b[0m\u001b[0m\n\u001b[0;32m     89\u001b[0m \u001b[1;33m\u001b[0m\u001b[0m\n",
      "\u001b[1;31mAvilaException\u001b[0m: Error occured in script:[c:\\ML project\\Reliable_Author_Identification_In_Avila_Bible\\Avila\\entity\\Author_predictor.py] at line number:[85] error message:[unhashable type: 'numpy.ndarray']"
     ]
    }
   ],
   "source": []
  },
  {
   "cell_type": "code",
   "execution_count": null,
   "metadata": {},
   "outputs": [],
   "source": []
  }
 ],
 "metadata": {
  "kernelspec": {
   "display_name": "Python 3.7.0 (conda)",
   "language": "python",
   "name": "python3"
  },
  "language_info": {
   "codemirror_mode": {
    "name": "ipython",
    "version": 3
   },
   "file_extension": ".py",
   "mimetype": "text/x-python",
   "name": "python",
   "nbconvert_exporter": "python",
   "pygments_lexer": "ipython3",
   "version": "3.7.0"
  },
  "orig_nbformat": 4,
  "vscode": {
   "interpreter": {
    "hash": "f20aa76194e1fd721acc1b7a23ea54cc05e18f3d9db8602f3a5a570be0734d5a"
   }
  }
 },
 "nbformat": 4,
 "nbformat_minor": 2
}
